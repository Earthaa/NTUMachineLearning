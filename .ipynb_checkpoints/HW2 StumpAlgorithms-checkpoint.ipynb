{
 "cells": [
  {
   "cell_type": "code",
   "execution_count": 193,
   "metadata": {
    "collapsed": true
   },
   "outputs": [],
   "source": [
    "import numpy as np\n",
    "import matplotlib.pyplot as plt\n",
    "from numpy import random"
   ]
  },
  {
   "cell_type": "code",
   "execution_count": 307,
   "metadata": {
    "collapsed": true
   },
   "outputs": [],
   "source": [
    "def Getein(theta,x,y):\n",
    "    s=1.0\n",
    "    predict_plus=s*np.sign(x-theta)\n",
    "    ein_plus=float(np.sum(predict_plus!=y))/float(np.size(x))\n",
    "    s=-1.0\n",
    "    predict_minus=s*np.sign(x-theta)\n",
    "    ein_minus=float(np.sum(predict_minus!=y))/float(np.size(x))\n",
    "    if ein_minus<ein_plus:\n",
    "        return -1.0,ein_minus\n",
    "    else:\n",
    "        return 1.0,ein_plus"
   ]
  },
  {
   "cell_type": "code",
   "execution_count": 322,
   "metadata": {
    "collapsed": true
   },
   "outputs": [],
   "source": [
    "def GetParameter(x,y):\n",
    "    s_opt=_\n",
    "    theta_opt=_\n",
    "    ein_opt=1.0\n",
    "    for i in range(0,np.size(x)-1):\n",
    "        theta=(x[0][i]+x[0][i+1])/2\n",
    "        s,ein=Getein(theta,x,y)\n",
    "        if ein<ein_opt:\n",
    "            ein_opt=ein\n",
    "            s_opt=s\n",
    "            theta_opt=theta\n",
    "    theta_minus_one=x[0][0]\n",
    "    theta_plus_one=x[0][np.size(x)-1]\n",
    "    s_minus_one,ein_minus_one=Getein(theta_minus_one,x,y)\n",
    "    s_plus_one,ein_plus_one=Getein(theta_plus_one,x,y)\n",
    "    \n",
    "    if ein_minus_one<ein_opt and ein_minus_one<ein_plus_one:\n",
    "        s_opt=s_minus_one\n",
    "        ein_opt=ein_minus_one\n",
    "        theta_opt=x[0][0]\n",
    "    elif ein_plus_one<ein_opt and ein_plus_one<ein_minus_one:\n",
    "        s_opt=s_plus_one\n",
    "        ein_opt=ein_plus_one\n",
    "        theta_opt=x[0][np.size(x)-1]\n",
    "    return s_opt,theta_opt,ein_opt"
   ]
  },
  {
   "cell_type": "code",
   "execution_count": 343,
   "metadata": {
    "collapsed": true
   },
   "outputs": [],
   "source": [
    "def Doiterate():\n",
    "    ein_average=0.0\n",
    "    eout_average=0.0\n",
    "    noise=np.array([[1.0 for row in range(0,16)]+[-1.0 for row in range(16,20)]])\n",
    "    for i in range(0,5000):\n",
    "        x=random.uniform(-1.0,1.0,[1,20])\n",
    "        x.sort()\n",
    "        random.shuffle(noise)# noise\n",
    "        y=np.multiply(np.sign(x),noise)#add noise to y\n",
    "        s,theta,ein=GetParameter(x,y)\n",
    "        ein_average+=ein\n",
    "        eout=0.5+s*0.3*float((abs(theta)-1.0))\n",
    "        eout_average+=eout\n",
    "    return ein_average/5000.0,eout_average/5000.0\n",
    "        "
   ]
  },
  {
   "cell_type": "code",
   "execution_count": 344,
   "metadata": {},
   "outputs": [],
   "source": [
    "def DataAnalysis():\n",
    "    data_train=np.loadtxt(\"hw2_train.txt\")\n",
    "    data_test=np.loadtxt(\"hw2_test.txt\")\n",
    "    theta_opt=_\n",
    "    s_opt=_\n",
    "    i_opt=_\n",
    "    ein_opt=1.0\n",
    "    for i in range(0,data_train.shape[1]-1):\n",
    "        data_train_temp=data_train[np.argsort(data_train[:,i])]#sort according to each column\n",
    "        x=np.array([data_train_temp[:,i].T])\n",
    "        y=([data_train_temp[:,data_train_temp.shape[1]-1].T])\n",
    "        s,theta,ein=GetParameter(x,y)\n",
    "        print ein,ein_opt\n",
    "        if ein_opt>ein:#Greedy Algorithms\n",
    "            ein_opt=ein\n",
    "            s_opt=s\n",
    "            theta_opt=theta\n",
    "            i_opt=i\n",
    "    data_test_slice_x=data_test[:,i_opt]\n",
    "    data_test_y=data_test[:,data_test.shape[1]-1]\n",
    "    predict_test_data=s_opt*np.sign(data_test_slice_x-theta_opt)\n",
    "    eout=float(np.sum(predict_test_data!=data_test_y))/float(np.size(data_test_y))\n",
    "    return ein_opt,eout"
   ]
  },
  {
   "cell_type": "code",
   "execution_count": 345,
   "metadata": {},
   "outputs": [
    {
     "name": "stdout",
     "output_type": "stream",
     "text": [
      "0.39 1.0\n",
      "0.39 0.39\n",
      "0.4 0.39\n",
      "0.25 0.39\n",
      "0.43 0.25\n",
      "0.28 0.25\n",
      "0.34 0.25\n",
      "0.39 0.25\n",
      "0.36 0.25\n",
      "(0.25, 0.355)\n",
      "(0.19573000000001595, 0.2579690801720089)\n"
     ]
    }
   ],
   "source": [
    "print DataAnalysis()\n",
    "print Doiterate()"
   ]
  },
  {
   "cell_type": "code",
   "execution_count": null,
   "metadata": {
    "collapsed": true
   },
   "outputs": [],
   "source": []
  },
  {
   "cell_type": "code",
   "execution_count": null,
   "metadata": {
    "collapsed": true
   },
   "outputs": [],
   "source": []
  },
  {
   "cell_type": "code",
   "execution_count": null,
   "metadata": {
    "collapsed": true
   },
   "outputs": [],
   "source": []
  }
 ],
 "metadata": {
  "kernelspec": {
   "display_name": "Python 2",
   "language": "python",
   "name": "python2"
  },
  "language_info": {
   "codemirror_mode": {
    "name": "ipython",
    "version": 2
   },
   "file_extension": ".py",
   "mimetype": "text/x-python",
   "name": "python",
   "nbconvert_exporter": "python",
   "pygments_lexer": "ipython2",
   "version": "2.7.13"
  }
 },
 "nbformat": 4,
 "nbformat_minor": 2
}
