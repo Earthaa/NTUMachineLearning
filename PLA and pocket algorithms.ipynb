{
 "cells": [
  {
   "cell_type": "code",
   "execution_count": 177,
   "metadata": {},
   "outputs": [],
   "source": [
    "import numpy as np\n",
    "import panda as pd\n",
    "import tensorflow as tf\n",
    "import random"
   ]
  },
  {
   "cell_type": "code",
   "execution_count": 178,
   "metadata": {},
   "outputs": [],
   "source": [
    "def refreshparameters(x,y,w,b,eta):\n",
    "    w=w+eta*x*y\n",
    "    b=b+eta*y\n",
    "    return w,b"
   ]
  },
  {
   "cell_type": "code",
   "execution_count": 310,
   "metadata": {},
   "outputs": [],
   "source": [
    "def pocket_algorithm(x,y,w,b,eta):\n",
    "    iteration=0\n",
    "    w_opt=w\n",
    "    b_opt=b\n",
    "    answer=((np.dot(x,w.T))+b)*y\n",
    "    error_rate_opt=float(sum(answer<=0))/float(len(answer))\n",
    "    while iteration<=50: \n",
    "        for i in range(0,x.shape[0]):\n",
    "            if (np.dot(x[i],w.T)+b)*y[i]<=0:\n",
    "                w,b=refreshparameters(x=x[i],y=y[i],w=w,b=b,eta=eta)\n",
    "                iteration=iteration+1\n",
    "                answer=((np.dot(x,w.T))+b)*y\n",
    "                error_rate=float(sum(answer<=0))/float(len(answer))\n",
    "                \n",
    "            if error_rate<error_rate_opt:\n",
    "                w_opt=w\n",
    "                b_opt=b\n",
    "                error_rate_opt=error_rate\n",
    "    return error_rate_opt,w_opt,b_opt"
   ]
  },
  {
   "cell_type": "code",
   "execution_count": 269,
   "metadata": {},
   "outputs": [],
   "source": [
    "def perceptron(x,y,w,b,eta):\n",
    "    count=1\n",
    "    iteration=0\n",
    "    while count!=0: \n",
    "        for i in range(0,x.shape[0]):\n",
    "            if (np.dot(x[i],w.T)+b)*y[i]<=0:\n",
    "                w,b=refreshparameters(x=x[i],y=y[i],w=w,b=b,eta=eta)\n",
    "                count=count+1\n",
    "                iteration=iteration+1\n",
    "    return iteration,w,b"
   ]
  },
  {
   "cell_type": "code",
   "execution_count": 265,
   "metadata": {},
   "outputs": [],
   "source": [
    "def normal_PLA():\n",
    "    myload=np.loadtxt(\"train.txt\")\n",
    "    iterations=[]\n",
    "    for i in range(0,2000):\n",
    "        np.random.shuffle(myload)\n",
    "        y=myload[:,4:5]\n",
    "        x=myload[:,0:4]\n",
    "        w=np.zeros((1,x.shape[1]))\n",
    "        b=0\n",
    "        iteration,w,b=perceptron(x,y,w,b,0.5)\n",
    "        iterations.append(iteration)\n",
    "    print sum(iterations)/len(iterations)"
   ]
  },
  {
   "cell_type": "code",
   "execution_count": 311,
   "metadata": {},
   "outputs": [],
   "source": [
    "def pocket_alogrithm_test():\n",
    "    myload_train=np.loadtxt(\"train_2.txt\")\n",
    "    myload_test=np.loadtxt(\"test_2.txt\")\n",
    "    error_rates=[]\n",
    "    for i in range(0,2000):\n",
    "        np.random.shuffle(myload_train)\n",
    "        y_train=myload_train[:,4:5]\n",
    "        x_train=myload_train[:,0:4]\n",
    "        y_test=myload_test[:,4:5]\n",
    "        x_test=myload_test[:,0:4]\n",
    "        w=np.zeros((1,x_train.shape[1]))\n",
    "        b=0\n",
    "        _,w,b=pocket_algorithm(x_train,y_train,w,b,1)\n",
    "        answer=((np.dot(x_test,w.T))+b)*y_test\n",
    "        error_rate=float(sum(answer<=0))/float(len(answer))\n",
    "        error_rates.append(error_rate)\n",
    "    return float(sum(error_rates))/float(len(error_rates))"
   ]
  },
  {
   "cell_type": "code",
   "execution_count": 312,
   "metadata": {},
   "outputs": [
    {
     "name": "stdout",
     "output_type": "stream",
     "text": [
      "0.111787\n"
     ]
    }
   ],
   "source": [
    "print pocket_alogrithm_test()"
   ]
  },
  {
   "cell_type": "code",
   "execution_count": null,
   "metadata": {
    "collapsed": true
   },
   "outputs": [],
   "source": []
  },
  {
   "cell_type": "code",
   "execution_count": null,
   "metadata": {
    "collapsed": true
   },
   "outputs": [],
   "source": []
  }
 ],
 "metadata": {
  "kernelspec": {
   "display_name": "Python 2",
   "language": "python",
   "name": "python2"
  },
  "language_info": {
   "codemirror_mode": {
    "name": "ipython",
    "version": 2
   },
   "file_extension": ".py",
   "mimetype": "text/x-python",
   "name": "python",
   "nbconvert_exporter": "python",
   "pygments_lexer": "ipython2",
   "version": "2.7.13"
  }
 },
 "nbformat": 4,
 "nbformat_minor": 2
}
